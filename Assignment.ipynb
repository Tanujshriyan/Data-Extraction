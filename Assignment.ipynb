{
 "cells": [
  {
   "cell_type": "code",
   "execution_count": 3,
   "metadata": {},
   "outputs": [],
   "source": [
    "import pandas as pd\n",
    "import requests\n",
    "import re\n",
    "from nltk import word_tokenize\n",
    "from nltk import sent_tokenize\n",
    "from bs4 import BeautifulSoup\n"
   ]
  },
  {
   "cell_type": "code",
   "execution_count": null,
   "metadata": {},
   "outputs": [],
   "source": [
    "excel_data_df =  pd.read_excel('Input.xlsx')\n",
    "excel_data_df.head()\n",
    "links = excel_data_df['URL']\n",
    "print(links)"
   ]
  },
  {
   "cell_type": "code",
   "execution_count": null,
   "metadata": {},
   "outputs": [],
   "source": [
    "reports = []\n",
    "for url in links:\n",
    "    r = requests.get(url)\n",
    "    data = r.text\n",
    "    soup = BeautifulSoup(data, 'html.parser')\n",
    "    reports.append(soup.get_text())\n",
    "\n",
    "print(f'Total {len(reports)} reports found')"
   ]
  },
  {
   "cell_type": "code",
   "execution_count": 15,
   "metadata": {},
   "outputs": [
    {
     "name": "stdout",
     "output_type": "stream",
     "text": [
      "Total number of Stop Words are 14108\n"
     ]
    }
   ],
   "source": [
    "with open('StopWords/StopWords_Generic.txt','r') as f:\n",
    "    stop_words_generic = f.read()\n",
    "\n",
    "stop_words_generic = stop_words_generic.split('\\n')\n",
    "print(f'Total number of Stop Words are {len(stop_words_generic)}')"
   ]
  },
  {
   "cell_type": "code",
   "execution_count": 16,
   "metadata": {},
   "outputs": [
    {
     "name": "stdout",
     "output_type": "stream",
     "text": [
      "Total number of Positive Words are 2007\n"
     ]
    }
   ],
   "source": [
    "with open('MasterDictionary/positive-words.txt','r') as f:\n",
    "    positive_words = f.read()\n",
    "\n",
    "positive_words = positive_words.split('\\n')\n",
    "print(f'Total number of Positive Words are {len(positive_words)}')"
   ]
  },
  {
   "cell_type": "code",
   "execution_count": null,
   "metadata": {},
   "outputs": [],
   "source": [
    "with open('MasterDictionary/negative-words.txt','r') as f:\n",
    "    negative_words = f.read()\n",
    "\n",
    "negative_words = negative_words.split('\\n')\n",
    "print(f'Total number of Negative Words are {len(negative_words)}')\n",
    "print(negative_words)"
   ]
  },
  {
   "cell_type": "code",
   "execution_count": null,
   "metadata": {},
   "outputs": [],
   "source": [
    "def tokenize(text):\n",
    "    text = re.sub(r'[^A-Za-z]','',text.upper())\n",
    "    tokenized_words = word_tokenize(text)\n",
    "    return tokenized_words"
   ]
  }
 ],
 "metadata": {
  "kernelspec": {
   "display_name": "Python 3.10.5 64-bit",
   "language": "python",
   "name": "python3"
  },
  "language_info": {
   "codemirror_mode": {
    "name": "ipython",
    "version": 3
   },
   "file_extension": ".py",
   "mimetype": "text/x-python",
   "name": "python",
   "nbconvert_exporter": "python",
   "pygments_lexer": "ipython3",
   "version": "3.10.5"
  },
  "orig_nbformat": 4,
  "vscode": {
   "interpreter": {
    "hash": "095ec958f3b6558f9c0bdad00efbebd4de25b75269617557fb0d80a5cd9e4818"
   }
  }
 },
 "nbformat": 4,
 "nbformat_minor": 2
}
